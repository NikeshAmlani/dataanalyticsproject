{
  "nbformat": 4,
  "nbformat_minor": 0,
  "metadata": {
    "colab": {
      "name": "SA-DEA.ipynb",
      "provenance": [],
      "include_colab_link": true
    },
    "kernelspec": {
      "name": "python3",
      "display_name": "Python 3"
    },
    "language_info": {
      "name": "python"
    }
  },
  "cells": [
    {
      "cell_type": "markdown",
      "metadata": {
        "id": "view-in-github",
        "colab_type": "text"
      },
      "source": [
        "<a href=\"https://colab.research.google.com/github/nadatanalytics/dataanalyticsproject/blob/main/SA_DEA.ipynb\" target=\"_parent\"><img src=\"https://colab.research.google.com/assets/colab-badge.svg\" alt=\"Open In Colab\"/></a>"
      ]
    },
    {
      "cell_type": "code",
      "execution_count": null,
      "metadata": {
        "colab": {
          "base_uri": "https://localhost:8080/"
        },
        "id": "noXOB8uYanGF",
        "outputId": "6c786b60-dfd1-4a18-db92-0ff92b572382"
      },
      "outputs": [
        {
          "output_type": "stream",
          "name": "stdout",
          "text": [
            "Requirement already satisfied: pulp in /usr/local/lib/python3.7/dist-packages (2.6.0)\n"
          ]
        }
      ],
      "source": [
        "!pip install pulp\n",
        "import pulp\n",
        "!apt-get install -y -qq glpk-utils"
      ]
    },
    {
      "cell_type": "code",
      "source": [
        "from pulp import GLPK\n",
        "import pandas as pd # Library to handle data\n",
        "import numpy as np\n",
        "from statistics import mean\n",
        "\n",
        "data = pd.read_csv(\"/content/FinalUnivDataset.csv\")\n",
        "\n",
        "#creating a list to store the optimal decision variables\n",
        "weights_matrix = np.empty((7,5))\n",
        "for k in range(5):  \n",
        "    model = pulp.LpProblem(\"University Analysis\", pulp.LpMaximize) # Create an LP maximization problem\n",
        "    m1 = pulp.LpVariable(\"m1\", lowBound=0, upBound=None, cat='Continuous') # Create a variable m1>=0\n",
        "    m2 = pulp.LpVariable(\"m2\", lowBound=0, upBound=None, cat='Continuous') # Create a variable m2>=0\n",
        "    n1 = pulp.LpVariable(\"n1\", lowBound=0, upBound=None, cat='Continuous') # Create a variable n1>=0\n",
        "    n2 = pulp.LpVariable(\"n2\", lowBound=0, upBound=None, cat='Continuous') # Create a variable n2>=0\n",
        "    n3 = pulp.LpVariable(\"n3\", lowBound=0, upBound=None, cat='Continuous') # Create a variable n3>=0\n",
        "    n4 = pulp.LpVariable(\"n4\", lowBound=0, upBound=None, cat='Continuous') # Create a variable n3>=0\n",
        "    n5 = pulp.LpVariable(\"n5\", lowBound=0, upBound=None, cat='Continuous') # Create a variable n3>=0\n",
        "   \n",
        "    model += m1*data[\"Y1\"][k] + m2*data[\"Y2\"][k]  #objective function\n",
        "    \n",
        "    model += n1*data[\"X1\"][k] + n2*data[\"X2\"][k] + n3*data[\"X3\"][k]+ n4*data[\"X4\"][k] + n5*data[\"X5\"][k] == 1 #first constraint (equality)\n",
        "\n",
        "    for i in range(5): \n",
        "        model += m1*data[\"Y1\"][i] + m2*data[\"Y2\"][i] - n1*data[\"X1\"][i] - n2*data[\"X2\"][i] - n3*data[\"X3\"][i] - n4*data[\"X4\"][i] - n5*data[\"X5\"][i] <= 0\n",
        "   \n",
        "    status = model.solve(GLPK(msg=True, options=['--ranges', 'sensitivity.txt'])) \n",
        "    print(\"Model Status:{}\".format(pulp.LpStatus[model.status])) \n",
        "    \n",
        "\n",
        "\n",
        "    # Displaying Optimal Decision Variables & Reduced Cost per Variable\n",
        "    list_weights=[]\n",
        "    for v in model.variables():\n",
        "\t      print(v.name, \"=\", v.varValue, \"\\tReduced Cost =\", v.dj)\n",
        "    for v in model.variables():  \n",
        "        list_weights=list_weights+[v.varValue]\n",
        "    for n in range(7):\n",
        "        value= list_weights[n]\n",
        "        weights_matrix[n,k] = value\n",
        "        \n",
        "    # Displaying Optimal Value of Objective Function\t\n",
        "    print(\"Objective=\", pulp.value(model.objective))\n",
        "\t\n",
        "    # Displaying Shadow Price & Slack Value per Constraint\n",
        "    print (\"\\nSensitivity Analysis\\nConstraint\\t\\tShadow Price\\tSlack\")\n",
        "    for name, c in model.constraints.items():\n",
        "\t      print(name, \":\", c, \"\\t\", c.pi, \"\\t\\t\", c.slack)"
      ],
      "metadata": {
        "colab": {
          "base_uri": "https://localhost:8080/"
        },
        "id": "Jn9o5K4LaszV",
        "outputId": "7f48945e-34ac-4c20-ee1f-49728b7cf1d5"
      },
      "execution_count": null,
      "outputs": [
        {
          "output_type": "stream",
          "name": "stdout",
          "text": [
            "Model Status:Optimal\n",
            "m1 = 1.33156 \tReduced Cost = None\n",
            "m2 = 0.0 \tReduced Cost = None\n",
            "n1 = 2.16624e-05 \tReduced Cost = None\n",
            "n2 = 0.0 \tReduced Cost = None\n",
            "n3 = 0.00518358 \tReduced Cost = None\n",
            "n4 = 0.0 \tReduced Cost = None\n",
            "n5 = 0.125675 \tReduced Cost = None\n",
            "Objective= 1.00000156\n",
            "\n",
            "Sensitivity Analysis\n",
            "Constraint\t\tShadow Price\tSlack\n",
            "_C1 : 28040.5*n1 + 2*n2 + 3*n3 + 0.905*n4 + 3*n5 = 1.0 \t None \t\t None\n",
            "_C2 : 0.751*m1 + 0.67*m2 - 28040.5*n1 - 2*n2 - 3*n3 - 0.905*n4 - 3*n5 <= -0.0 \t None \t\t None\n",
            "_C3 : 0.955*m1 + 0.771*m2 - 34300.0*n1 - 3*n2 - 5*n3 - 0.822*n4 - 4*n5 <= -0.0 \t None \t\t None\n",
            "_C4 : 0.689*m1 + 0.605*m2 - 22153.5*n1 - 2*n2 - 2*n3 - 0.879*n4 - 5*n5 <= -0.0 \t None \t\t None\n",
            "_C5 : 0.784*m1 + 0.805*m2 - 19637.5*n1 - 2*n2 - 4*n3 - 0.859*n4 - 5*n5 <= -0.0 \t None \t\t None\n",
            "_C6 : 0.627*m1 + 0.395*m2 - 32500.0*n1 - 2*n2 - n3 - 0.781*n4 - n5 <= -0.0 \t None \t\t None\n",
            "Model Status:Optimal\n",
            "m1 = 1.04712 \tReduced Cost = None\n",
            "m2 = 0.0 \tReduced Cost = None\n",
            "n1 = 1.69925e-05 \tReduced Cost = None\n",
            "n2 = 0.0 \tReduced Cost = None\n",
            "n3 = 0.0 \tReduced Cost = None\n",
            "n4 = 0.0 \tReduced Cost = None\n",
            "n5 = 0.10429 \tReduced Cost = None\n",
            "Objective= 0.9999996\n",
            "\n",
            "Sensitivity Analysis\n",
            "Constraint\t\tShadow Price\tSlack\n",
            "_C1 : 34300.0*n1 + 3*n2 + 5*n3 + 0.822*n4 + 4*n5 = 1.0 \t None \t\t None\n",
            "_C2 : 0.751*m1 + 0.67*m2 - 28040.5*n1 - 2*n2 - 3*n3 - 0.905*n4 - 3*n5 <= -0.0 \t None \t\t None\n",
            "_C3 : 0.955*m1 + 0.771*m2 - 34300.0*n1 - 3*n2 - 5*n3 - 0.822*n4 - 4*n5 <= -0.0 \t None \t\t None\n",
            "_C4 : 0.689*m1 + 0.605*m2 - 22153.5*n1 - 2*n2 - 2*n3 - 0.879*n4 - 5*n5 <= -0.0 \t None \t\t None\n",
            "_C5 : 0.784*m1 + 0.805*m2 - 19637.5*n1 - 2*n2 - 4*n3 - 0.859*n4 - 5*n5 <= -0.0 \t None \t\t None\n",
            "_C6 : 0.627*m1 + 0.395*m2 - 32500.0*n1 - 2*n2 - n3 - 0.781*n4 - n5 <= -0.0 \t None \t\t None\n",
            "Model Status:Optimal\n",
            "m1 = 1.45138 \tReduced Cost = None\n",
            "m2 = 0.0 \tReduced Cost = None\n",
            "n1 = 1.35186e-05 \tReduced Cost = None\n",
            "n2 = 0.0 \tReduced Cost = None\n",
            "n3 = 0.0905115 \tReduced Cost = None\n",
            "n4 = 0.456462 \tReduced Cost = None\n",
            "n5 = 0.0236527 \tReduced Cost = None\n",
            "Objective= 1.00000082\n",
            "\n",
            "Sensitivity Analysis\n",
            "Constraint\t\tShadow Price\tSlack\n",
            "_C1 : 22153.5*n1 + 2*n2 + 2*n3 + 0.879*n4 + 5*n5 = 1.0 \t None \t\t None\n",
            "_C2 : 0.751*m1 + 0.67*m2 - 28040.5*n1 - 2*n2 - 3*n3 - 0.905*n4 - 3*n5 <= -0.0 \t None \t\t None\n",
            "_C3 : 0.955*m1 + 0.771*m2 - 34300.0*n1 - 3*n2 - 5*n3 - 0.822*n4 - 4*n5 <= -0.0 \t None \t\t None\n",
            "_C4 : 0.689*m1 + 0.605*m2 - 22153.5*n1 - 2*n2 - 2*n3 - 0.879*n4 - 5*n5 <= -0.0 \t None \t\t None\n",
            "_C5 : 0.784*m1 + 0.805*m2 - 19637.5*n1 - 2*n2 - 4*n3 - 0.859*n4 - 5*n5 <= -0.0 \t None \t\t None\n",
            "_C6 : 0.627*m1 + 0.395*m2 - 32500.0*n1 - 2*n2 - n3 - 0.781*n4 - n5 <= -0.0 \t None \t\t None\n",
            "Model Status:Optimal\n",
            "m1 = 0.0 \tReduced Cost = None\n",
            "m2 = 1.24224 \tReduced Cost = None\n",
            "n1 = 1.42882e-05 \tReduced Cost = None\n",
            "n2 = 0.0 \tReduced Cost = None\n",
            "n3 = 0.0 \tReduced Cost = None\n",
            "n4 = 0.0 \tReduced Cost = None\n",
            "n5 = 0.143883 \tReduced Cost = None\n",
            "Objective= 1.0000032\n",
            "\n",
            "Sensitivity Analysis\n",
            "Constraint\t\tShadow Price\tSlack\n",
            "_C1 : 19637.5*n1 + 2*n2 + 4*n3 + 0.859*n4 + 5*n5 = 1.0 \t None \t\t None\n",
            "_C2 : 0.751*m1 + 0.67*m2 - 28040.5*n1 - 2*n2 - 3*n3 - 0.905*n4 - 3*n5 <= -0.0 \t None \t\t None\n",
            "_C3 : 0.955*m1 + 0.771*m2 - 34300.0*n1 - 3*n2 - 5*n3 - 0.822*n4 - 4*n5 <= -0.0 \t None \t\t None\n",
            "_C4 : 0.689*m1 + 0.605*m2 - 22153.5*n1 - 2*n2 - 2*n3 - 0.879*n4 - 5*n5 <= -0.0 \t None \t\t None\n",
            "_C5 : 0.784*m1 + 0.805*m2 - 19637.5*n1 - 2*n2 - 4*n3 - 0.859*n4 - 5*n5 <= -0.0 \t None \t\t None\n",
            "_C6 : 0.627*m1 + 0.395*m2 - 32500.0*n1 - 2*n2 - n3 - 0.781*n4 - n5 <= -0.0 \t None \t\t None\n",
            "Model Status:Optimal\n",
            "m1 = 1.5949 \tReduced Cost = None\n",
            "m2 = 0.0 \tReduced Cost = None\n",
            "n1 = 0.0 \tReduced Cost = None\n",
            "n2 = 0.0 \tReduced Cost = None\n",
            "n3 = 0.0 \tReduced Cost = None\n",
            "n4 = 0.0 \tReduced Cost = None\n",
            "n5 = 1.0 \tReduced Cost = None\n",
            "Objective= 1.0000023\n",
            "\n",
            "Sensitivity Analysis\n",
            "Constraint\t\tShadow Price\tSlack\n",
            "_C1 : 32500.0*n1 + 2*n2 + n3 + 0.781*n4 + n5 = 1.0 \t None \t\t None\n",
            "_C2 : 0.751*m1 + 0.67*m2 - 28040.5*n1 - 2*n2 - 3*n3 - 0.905*n4 - 3*n5 <= -0.0 \t None \t\t None\n",
            "_C3 : 0.955*m1 + 0.771*m2 - 34300.0*n1 - 3*n2 - 5*n3 - 0.822*n4 - 4*n5 <= -0.0 \t None \t\t None\n",
            "_C4 : 0.689*m1 + 0.605*m2 - 22153.5*n1 - 2*n2 - 2*n3 - 0.879*n4 - 5*n5 <= -0.0 \t None \t\t None\n",
            "_C5 : 0.784*m1 + 0.805*m2 - 19637.5*n1 - 2*n2 - 4*n3 - 0.859*n4 - 5*n5 <= -0.0 \t None \t\t None\n",
            "_C6 : 0.627*m1 + 0.395*m2 - 32500.0*n1 - 2*n2 - n3 - 0.781*n4 - n5 <= -0.0 \t None \t\t None\n"
          ]
        },
        {
          "output_type": "stream",
          "name": "stderr",
          "text": [
            "/usr/local/lib/python3.7/dist-packages/pulp/pulp.py:1352: UserWarning: Spaces are not permitted in the name. Converted to '_'\n",
            "  warnings.warn(\"Spaces are not permitted in the name. Converted to '_'\")\n"
          ]
        }
      ]
    },
    {
      "cell_type": "code",
      "source": [
        "efficiency_table =np.empty((5,5))\n",
        "average_list =[]\n",
        "for row in range(5):\n",
        "    row_values=[]\n",
        "    for column in range(5):\n",
        "       value = ((weights_matrix[0,column]*data[\"Y1\"][row])+(weights_matrix[1,column]*data[\"Y2\"][row]))/((weights_matrix[2,column]*data[\"X1\"][row])+(weights_matrix[3,column]*data[\"X2\"][row])+(weights_matrix[4,column]*data[\"X3\"][row])+(weights_matrix[5,column]*data[\"X4\"][row])+(weights_matrix[6,column]*data[\"X5\"][row]))\n",
        "       efficiency_table[row,column]=value\n",
        "       row_values=row_values+[value]\n",
        "    average =mean(row_values)\n",
        "    average_list =average_list+[average]"
      ],
      "metadata": {
        "id": "5iOc1rzHNrQu"
      },
      "execution_count": null,
      "outputs": []
    },
    {
      "cell_type": "code",
      "source": [
        "from google.colab import drive\n",
        "drive.mount('/content/drive')"
      ],
      "metadata": {
        "id": "FuqjVtMPVzE9",
        "colab": {
          "base_uri": "https://localhost:8080/"
        },
        "outputId": "08787bab-67ef-4afa-d2c6-cf9ad13b65c2"
      },
      "execution_count": null,
      "outputs": [
        {
          "output_type": "stream",
          "name": "stdout",
          "text": [
            "Mounted at /content/drive\n"
          ]
        }
      ]
    },
    {
      "cell_type": "code",
      "source": [
        "average_list_rounded = [ '%.2f' % elem for elem in average_list ]"
      ],
      "metadata": {
        "id": "aM6AEH4ZSwjW"
      },
      "execution_count": null,
      "outputs": []
    },
    {
      "cell_type": "code",
      "source": [
        "uni_list = ['Warwick','Imperial','Edinburgh','Manchester','Durham']"
      ],
      "metadata": {
        "id": "1nkRNV3tVy2a"
      },
      "execution_count": null,
      "outputs": []
    },
    {
      "cell_type": "markdown",
      "source": [
        ""
      ],
      "metadata": {
        "id": "Jp77vCwuWVx4"
      }
    },
    {
      "cell_type": "code",
      "source": [
        "for uni in uni_list:\n",
        "    index = uni_list.index(uni)\n",
        "    print(\"Cross-efficiency score for\",uni,\"=\",average_list_rounded[index])"
      ],
      "metadata": {
        "id": "YKOPNna2UJr2",
        "colab": {
          "base_uri": "https://localhost:8080/"
        },
        "outputId": "5fad62c3-6515-4b7f-ddb6-53271fc620c8"
      },
      "execution_count": null,
      "outputs": [
        {
          "output_type": "stream",
          "name": "stdout",
          "text": [
            "Cross-efficiency score for Warwick = 0.87\n",
            "Cross-efficiency score for Imperial = 0.86\n",
            "Cross-efficiency score for Edinburgh = 0.71\n",
            "Cross-efficiency score for Manchester = 0.84\n",
            "Cross-efficiency score for Durham = 0.96\n"
          ]
        }
      ]
    },
    {
      "cell_type": "code",
      "source": [
        "display(efficiency_table)\n",
        "efficiency_table = efficiency_table.round(decimals=2)\n",
        "display(efficiency_table)"
      ],
      "metadata": {
        "id": "NfDBdC0wVx1V",
        "colab": {
          "base_uri": "https://localhost:8080/",
          "height": 187
        },
        "outputId": "0cd4dfa5-6605-4fbb-9987-d0547a569ab5"
      },
      "execution_count": null,
      "outputs": [
        {
          "output_type": "display_data",
          "data": {
            "text/plain": [
              "array([[1.00000129, 0.99624871, 0.96062902, 1.00000424, 0.39925663],\n",
              "       [1.00000124, 0.99999685, 0.9999999 , 0.89879085, 0.38078238],\n",
              "       [0.82014297, 0.80350933, 0.99999992, 0.72547535, 0.21977722],\n",
              "       [0.97155744, 0.96000874, 1.00000005, 1.00000367, 0.25008032],\n",
              "       [1.00000184, 0.99999694, 0.99999971, 0.80671632, 1.0000023 ]])"
            ]
          },
          "metadata": {}
        },
        {
          "output_type": "display_data",
          "data": {
            "text/plain": [
              "array([[1.  , 1.  , 0.96, 1.  , 0.4 ],\n",
              "       [1.  , 1.  , 1.  , 0.9 , 0.38],\n",
              "       [0.82, 0.8 , 1.  , 0.73, 0.22],\n",
              "       [0.97, 0.96, 1.  , 1.  , 0.25],\n",
              "       [1.  , 1.  , 1.  , 0.81, 1.  ]])"
            ]
          },
          "metadata": {}
        }
      ]
    }
  ]
}