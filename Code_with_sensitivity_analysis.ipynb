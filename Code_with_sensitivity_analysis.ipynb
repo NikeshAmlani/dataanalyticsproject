{
  "nbformat": 4,
  "nbformat_minor": 0,
  "metadata": {
    "colab": {
      "name": "Code with sensitivity analysis.ipynb",
      "provenance": [],
      "authorship_tag": "ABX9TyMZIC65ltjZQmqGdv4eetNq",
      "include_colab_link": true
    },
    "kernelspec": {
      "name": "python3",
      "display_name": "Python 3"
    },
    "language_info": {
      "name": "python"
    }
  },
  "cells": [
    {
      "cell_type": "markdown",
      "metadata": {
        "id": "view-in-github",
        "colab_type": "text"
      },
      "source": [
        "<a href=\"https://colab.research.google.com/github/nadatanalytics/Modelling_-Project/blob/main/Code_with_sensitivity_analysis.ipynb\" target=\"_parent\"><img src=\"https://colab.research.google.com/assets/colab-badge.svg\" alt=\"Open In Colab\"/></a>"
      ]
    },
    {
      "cell_type": "code",
      "execution_count": null,
      "metadata": {
        "id": "rw4O9LIqmua_"
      },
      "outputs": [],
      "source": [
        "### Changed code, but droppping X4 (Diversity) and X5 (Elective)"
      ]
    },
    {
      "cell_type": "code",
      "execution_count": null,
      "metadata": {
        "colab": {
          "base_uri": "https://localhost:8080/"
        },
        "id": "noXOB8uYanGF",
        "outputId": "76623a78-348c-4a27-a999-1c5499f0bf2b"
      },
      "outputs": [
        {
          "output_type": "stream",
          "name": "stdout",
          "text": [
            "Requirement already satisfied: pulp in /usr/local/lib/python3.7/dist-packages (2.6.0)\n"
          ]
        }
      ],
      "source": [
        "!pip install pulp\n",
        "import pulp\n",
        "!apt-get install -y -qq glpk-utils"
      ]
    },
    {
      "cell_type": "code",
      "source": [
        "from pulp import GLPK\n",
        "import pandas as pd # Library to handle data\n",
        "import numpy as np\n",
        "from statistics import mean\n",
        "\n",
        "data = pd.read_csv(\"/content/FinalUnivDataset.csv\")\n",
        "#creating a list to store the optimal decision variables\n",
        "weights_matrix = np.empty((7,5))\n",
        "for k in range(5):  \n",
        "    model = pulp.LpProblem(\"University Analysis\", pulp.LpMaximize) # Create an LP maximization problem\n",
        "    m1 = pulp.LpVariable(\"m1\", lowBound=0, upBound=None, cat='Continuous') # Create a variable m1>=0\n",
        "    m2 = pulp.LpVariable(\"m2\", lowBound=0, upBound=None, cat='Continuous') # Create a variable m2>=0\n",
        "    n1 = pulp.LpVariable(\"n1\", lowBound=0, upBound=None, cat='Continuous') # Create a variable n1>=0\n",
        "    n2 = pulp.LpVariable(\"n2\", lowBound=0, upBound=None, cat='Continuous') # Create a variable n2>=0\n",
        "    n3 = pulp.LpVariable(\"n3\", lowBound=0, upBound=None, cat='Continuous') # Create a variable n3>=0\n",
        "  \n",
        "   \n",
        "    model += m1*data[\"Y1\"][k] + m2*data[\"Y2\"][k]  #objective function\n",
        "    \n",
        "    model += n1*data[\"X1\"][k] + n2*data[\"X2\"][k] + n3*data[\"X3\"][k] == 1 #first constraint (equality)\n",
        "\n",
        "    for i in range(5): \n",
        "        model += m1*data[\"Y1\"][i] + m2*data[\"Y2\"][i] - n1*data[\"X1\"][i] - n2*data[\"X2\"][i] - n3*data[\"X3\"][i] <= 0\n",
        "   \n",
        "    status = model.solve(GLPK(msg=True, options=['--ranges', 'sensitivity.txt'])) \n",
        "    print(\"Model Status:{}\".format(pulp.LpStatus[model.status])) \n",
        "    \n",
        "\n",
        "\n",
        "    # Displaying Optimal Decision Variables & Reduced Cost per Variable\n",
        "    list_weights=[]\n",
        "    for v in model.variables():\n",
        "\t      print(v.name, \"=\", v.varValue, \"\\tReduced Cost =\", v.dj)\n",
        "    for v in model.variables():  \n",
        "        list_weights=list_weights+[v.varValue]\n",
        "    for n in range(5):\n",
        "        value= list_weights[n]\n",
        "        weights_matrix[n,k] = value\n",
        "        \n",
        "    # Displaying Optimal Value of Objective Function\t\n",
        "    print(\"Objective=\", pulp.value(model.objective))\n",
        "\t\n",
        "    # Displaying Shadow Price & Slack Value per Constraint\n",
        "    print (\"\\nSensitivity Analysis\\nConstraint\\t\\tShadow Price\\tSlack\")\n",
        "    for name, c in model.constraints.items():\n",
        "\t      print(name, \":\", c, \"\\t\", c.pi, \"\\t\\t\", c.slack)"
      ],
      "metadata": {
        "colab": {
          "base_uri": "https://localhost:8080/"
        },
        "id": "Jn9o5K4LaszV",
        "outputId": "0a11d5cf-678f-41dc-f187-94042f60d101"
      },
      "execution_count": null,
      "outputs": [
        {
          "output_type": "stream",
          "name": "stdout",
          "text": [
            "Model Status:Optimal\n",
            "m1 = 0.972222 \tReduced Cost = None\n",
            "m2 = 0.402778 \tReduced Cost = None\n",
            "n1 = 0.0 \tReduced Cost = None\n",
            "n2 = 0.370312 \tReduced Cost = None\n",
            "n3 = 0.0864583 \tReduced Cost = None\n",
            "Objective= 0.9999999820000001\n",
            "\n",
            "Sensitivity Analysis\n",
            "Constraint\t\tShadow Price\tSlack\n",
            "_C1 : 28040.5*n1 + 2*n2 + 3*n3 = 1.0 \t None \t\t None\n",
            "_C2 : 0.751*m1 + 0.67*m2 - 28040.5*n1 - 2*n2 - 3*n3 <= -0.0 \t None \t\t None\n",
            "_C3 : 0.955*m1 + 0.771*m2 - 34300.0*n1 - 3*n2 - 5*n3 <= -0.0 \t None \t\t None\n",
            "_C4 : 0.689*m1 + 0.605*m2 - 22153.5*n1 - 2*n2 - 2*n3 <= -0.0 \t None \t\t None\n",
            "_C5 : 0.784*m1 + 0.805*m2 - 19637.5*n1 - 2*n2 - 4*n3 <= -0.0 \t None \t\t None\n",
            "_C6 : 0.627*m1 + 0.395*m2 - 32500.0*n1 - 2*n2 - n3 <= -0.0 \t None \t\t None\n",
            "Model Status:Optimal\n",
            "m1 = 0.880455 \tReduced Cost = None\n",
            "m2 = 0.0 \tReduced Cost = None\n",
            "n1 = 1.78679e-06 \tReduced Cost = None\n",
            "n2 = 0.239455 \tReduced Cost = None\n",
            "n3 = 0.0440694 \tReduced Cost = None\n",
            "Objective= 0.840834525\n",
            "\n",
            "Sensitivity Analysis\n",
            "Constraint\t\tShadow Price\tSlack\n",
            "_C1 : 34300.0*n1 + 3*n2 + 5*n3 = 1.0 \t None \t\t None\n",
            "_C2 : 0.751*m1 + 0.67*m2 - 28040.5*n1 - 2*n2 - 3*n3 <= -0.0 \t None \t\t None\n",
            "_C3 : 0.955*m1 + 0.771*m2 - 34300.0*n1 - 3*n2 - 5*n3 <= -0.0 \t None \t\t None\n",
            "_C4 : 0.689*m1 + 0.605*m2 - 22153.5*n1 - 2*n2 - 2*n3 <= -0.0 \t None \t\t None\n",
            "_C5 : 0.784*m1 + 0.805*m2 - 19637.5*n1 - 2*n2 - 4*n3 <= -0.0 \t None \t\t None\n",
            "_C6 : 0.627*m1 + 0.395*m2 - 32500.0*n1 - 2*n2 - n3 <= -0.0 \t None \t\t None\n",
            "Model Status:Optimal\n",
            "m1 = 1.45138 \tReduced Cost = None\n",
            "m2 = 0.0 \tReduced Cost = None\n",
            "n1 = 1.91388e-05 \tReduced Cost = None\n",
            "n2 = 0.0 \tReduced Cost = None\n",
            "n3 = 0.288005 \tReduced Cost = None\n",
            "Objective= 1.00000082\n",
            "\n",
            "Sensitivity Analysis\n",
            "Constraint\t\tShadow Price\tSlack\n",
            "_C1 : 22153.5*n1 + 2*n2 + 2*n3 = 1.0 \t None \t\t None\n",
            "_C2 : 0.751*m1 + 0.67*m2 - 28040.5*n1 - 2*n2 - 3*n3 <= -0.0 \t None \t\t None\n",
            "_C3 : 0.955*m1 + 0.771*m2 - 34300.0*n1 - 3*n2 - 5*n3 <= -0.0 \t None \t\t None\n",
            "_C4 : 0.689*m1 + 0.605*m2 - 22153.5*n1 - 2*n2 - 2*n3 <= -0.0 \t None \t\t None\n",
            "_C5 : 0.784*m1 + 0.805*m2 - 19637.5*n1 - 2*n2 - 4*n3 <= -0.0 \t None \t\t None\n",
            "_C6 : 0.627*m1 + 0.395*m2 - 32500.0*n1 - 2*n2 - n3 <= -0.0 \t None \t\t None\n",
            "Model Status:Optimal\n",
            "m1 = 0.0 \tReduced Cost = None\n",
            "m2 = 1.24224 \tReduced Cost = None\n",
            "n1 = 2.03938e-05 \tReduced Cost = None\n",
            "n2 = 0.0 \tReduced Cost = None\n",
            "n3 = 0.149879 \tReduced Cost = None\n",
            "Objective= 1.0000032\n",
            "\n",
            "Sensitivity Analysis\n",
            "Constraint\t\tShadow Price\tSlack\n",
            "_C1 : 19637.5*n1 + 2*n2 + 4*n3 = 1.0 \t None \t\t None\n",
            "_C2 : 0.751*m1 + 0.67*m2 - 28040.5*n1 - 2*n2 - 3*n3 <= -0.0 \t None \t\t None\n",
            "_C3 : 0.955*m1 + 0.771*m2 - 34300.0*n1 - 3*n2 - 5*n3 <= -0.0 \t None \t\t None\n",
            "_C4 : 0.689*m1 + 0.605*m2 - 22153.5*n1 - 2*n2 - 2*n3 <= -0.0 \t None \t\t None\n",
            "_C5 : 0.784*m1 + 0.805*m2 - 19637.5*n1 - 2*n2 - 4*n3 <= -0.0 \t None \t\t None\n",
            "_C6 : 0.627*m1 + 0.395*m2 - 32500.0*n1 - 2*n2 - n3 <= -0.0 \t None \t\t None\n",
            "Model Status:Optimal\n",
            "m1 = 1.5949 \tReduced Cost = None\n",
            "m2 = 0.0 \tReduced Cost = None\n",
            "n1 = 0.0 \tReduced Cost = None\n",
            "n2 = 0.0 \tReduced Cost = None\n",
            "n3 = 1.0 \tReduced Cost = None\n",
            "Objective= 1.0000023\n",
            "\n",
            "Sensitivity Analysis\n",
            "Constraint\t\tShadow Price\tSlack\n",
            "_C1 : 32500.0*n1 + 2*n2 + n3 = 1.0 \t None \t\t None\n",
            "_C2 : 0.751*m1 + 0.67*m2 - 28040.5*n1 - 2*n2 - 3*n3 <= -0.0 \t None \t\t None\n",
            "_C3 : 0.955*m1 + 0.771*m2 - 34300.0*n1 - 3*n2 - 5*n3 <= -0.0 \t None \t\t None\n",
            "_C4 : 0.689*m1 + 0.605*m2 - 22153.5*n1 - 2*n2 - 2*n3 <= -0.0 \t None \t\t None\n",
            "_C5 : 0.784*m1 + 0.805*m2 - 19637.5*n1 - 2*n2 - 4*n3 <= -0.0 \t None \t\t None\n",
            "_C6 : 0.627*m1 + 0.395*m2 - 32500.0*n1 - 2*n2 - n3 <= -0.0 \t None \t\t None\n"
          ]
        },
        {
          "output_type": "stream",
          "name": "stderr",
          "text": [
            "/usr/local/lib/python3.7/dist-packages/pulp/pulp.py:1352: UserWarning: Spaces are not permitted in the name. Converted to '_'\n",
            "  warnings.warn(\"Spaces are not permitted in the name. Converted to '_'\")\n"
          ]
        }
      ]
    },
    {
      "cell_type": "code",
      "source": [
        "efficiency_table =np.empty((5,5))\n",
        "average_list =[]\n",
        "for row in range(5):\n",
        "    row_values=[]\n",
        "    for column in range(5):\n",
        "       value = ((weights_matrix[0,column]*data[\"Y1\"][row])+(weights_matrix[1,column]*data[\"Y2\"][row]))/((weights_matrix[2,column]*data[\"X1\"][row])+(weights_matrix[3,column]*data[\"X2\"][row])+(weights_matrix[4,column]*data[\"X3\"][row]))\n",
        "       efficiency_table[row,column]=value\n",
        "       row_values=row_values+[value]\n",
        "    average =mean(row_values)\n",
        "    average_list =average_list+[average]"
      ],
      "metadata": {
        "id": "5iOc1rzHNrQu"
      },
      "execution_count": null,
      "outputs": []
    },
    {
      "cell_type": "code",
      "source": [
        "average_list_rounded = [ '%.2f' % elem for elem in average_list ]"
      ],
      "metadata": {
        "id": "aM6AEH4ZSwjW"
      },
      "execution_count": null,
      "outputs": []
    },
    {
      "cell_type": "code",
      "source": [
        "uni_list = ['Warwick','Imperial','Edinburgh','Manchester','Durham']"
      ],
      "metadata": {
        "id": "1nkRNV3tVy2a"
      },
      "execution_count": null,
      "outputs": []
    },
    {
      "cell_type": "markdown",
      "source": [
        ""
      ],
      "metadata": {
        "id": "Jp77vCwuWVx4"
      }
    },
    {
      "cell_type": "code",
      "source": [
        "for uni in uni_list:\n",
        "    index = uni_list.index(uni)\n",
        "    print(\"Cross-efficiency score for\",uni,\"=\",average_list_rounded[index])"
      ],
      "metadata": {
        "colab": {
          "base_uri": "https://localhost:8080/"
        },
        "id": "YKOPNna2UJr2",
        "outputId": "028036a7-e9f8-44f4-f6e2-a61b89234a97"
      },
      "execution_count": null,
      "outputs": [
        {
          "output_type": "stream",
          "name": "stdout",
          "text": [
            "Cross-efficiency score for Warwick = 0.80\n",
            "Cross-efficiency score for Imperial = 0.65\n",
            "Cross-efficiency score for Edinburgh = 0.91\n",
            "Cross-efficiency score for Manchester = 0.81\n",
            "Cross-efficiency score for Durham = 0.90\n"
          ]
        }
      ]
    },
    {
      "cell_type": "code",
      "source": [
        "display(efficiency_table)\n",
        "efficiency_table = efficiency_table.round(decimals=2)\n",
        "display(efficiency_table)"
      ],
      "metadata": {
        "id": "NfDBdC0wVx1V",
        "colab": {
          "base_uri": "https://localhost:8080/",
          "height": 190
        },
        "outputId": "af074c71-762c-4013-8e26-7c514b1208ab"
      },
      "execution_count": null,
      "outputs": [
        {
          "output_type": "display_data",
          "data": {
            "text/plain": [
              "array([[1.00000108, 1.00000154, 0.77818566, 0.81479146, 0.39925663],\n",
              "       [0.8028718 , 0.84083545, 0.66113869, 0.6610294 , 0.3046259 ],\n",
              "       [1.00000115, 1.00000172, 0.99999941, 1.00000419, 0.54944305],\n",
              "       [1.00000105, 1.00000149, 0.74475624, 1.00000395, 0.3126004 ],\n",
              "       [0.92938817, 0.95008212, 0.99999919, 0.60378785, 1.0000023 ]])"
            ]
          },
          "metadata": {}
        },
        {
          "output_type": "display_data",
          "data": {
            "text/plain": [
              "array([[1.  , 1.  , 0.78, 0.81, 0.4 ],\n",
              "       [0.8 , 0.84, 0.66, 0.66, 0.3 ],\n",
              "       [1.  , 1.  , 1.  , 1.  , 0.55],\n",
              "       [1.  , 1.  , 0.74, 1.  , 0.31],\n",
              "       [0.93, 0.95, 1.  , 0.6 , 1.  ]])"
            ]
          },
          "metadata": {}
        }
      ]
    }
  ]
}